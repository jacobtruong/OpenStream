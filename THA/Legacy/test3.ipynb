{
 "cells": [
  {
   "cell_type": "code",
   "execution_count": 1,
   "id": "764591c9",
   "metadata": {},
   "outputs": [],
   "source": [
    "import requests\n",
    "from bs4 import BeautifulSoup\n",
    "from urllib.parse import urljoin\n",
    "import re\n",
    "import logging"
   ]
  },
  {
   "cell_type": "code",
   "execution_count": 2,
   "id": "b92c1e0d",
   "metadata": {},
   "outputs": [],
   "source": [
    "company_name = \"Texwin\"\n",
    "base_url = \"https://texwin.com/\"\n",
    "\n",
    "# NOTE: This User-Agent string is taken from my own browser to simulate a real user.\n",
    "headers = {'User-Agent': 'Mozilla/5.0 (Windows NT 10.0; Win64; x64) AppleWebKit/537.36 (KHTML, like Gecko) Chrome/139.0.0.0 Safari/537.36'}\n",
    "\n",
    "# Commonly used keywords for identifying key pages\n",
    "link_keywords = {\n",
    "    \"background\": [\"about\", \"history\", \"company\", \"background\"],\n",
    "    \"products\": [\"products\", \"services\", \"solutions\", \"what we do\"],\n",
    "    \"contact\": [\"contact-us\", \"contact\", \"locations\", \"address\", \"find us\"]\n",
    "}"
   ]
  },
  {
   "cell_type": "code",
   "execution_count": 3,
   "id": "565dc68a",
   "metadata": {},
   "outputs": [],
   "source": [
    "response = requests.get(base_url, headers=headers, timeout=10)\n",
    "response.raise_for_status()\n",
    "homepage_soup = BeautifulSoup(response.text, 'html.parser')"
   ]
  },
  {
   "cell_type": "code",
   "execution_count": 6,
   "id": "a63c5fbf",
   "metadata": {},
   "outputs": [],
   "source": [
    "a_tags = homepage_soup.find_all('a', href=True)"
   ]
  },
  {
   "cell_type": "code",
   "execution_count": 20,
   "id": "9dd81b4a",
   "metadata": {},
   "outputs": [
    {
     "name": "stdout",
     "output_type": "stream",
     "text": [
      "Link Text: contact us, Link Href: https://texwin.com/contact-us\n"
     ]
    }
   ],
   "source": [
    "for a_tag in a_tags:\n",
    "    link_text = a_tag.get_text(strip=True).lower()\n",
    "    link_href = a_tag['href']\n",
    "\n",
    "    if \"contact us\" in link_text:\n",
    "        print(f\"Link Text: {link_text}, Link Href: {link_href}\")\n",
    "        break"
   ]
  },
  {
   "cell_type": "code",
   "execution_count": null,
   "id": "ce5e6762",
   "metadata": {},
   "outputs": [],
   "source": []
  },
  {
   "cell_type": "code",
   "execution_count": 21,
   "id": "a8a159a8",
   "metadata": {},
   "outputs": [
    {
     "data": {
      "text/plain": [
       "'https://texwin.com/contact-us'"
      ]
     },
     "execution_count": 21,
     "metadata": {},
     "output_type": "execute_result"
    }
   ],
   "source": [
    "link_href"
   ]
  },
  {
   "cell_type": "code",
   "execution_count": 22,
   "id": "aaac88d9",
   "metadata": {},
   "outputs": [
    {
     "data": {
      "text/plain": [
       "'https://texwin.com/contact-us'"
      ]
     },
     "execution_count": 22,
     "metadata": {},
     "output_type": "execute_result"
    }
   ],
   "source": [
    "absolute_url = urljoin(base_url, link_href)\n",
    "absolute_url"
   ]
  },
  {
   "cell_type": "code",
   "execution_count": 31,
   "id": "afe0b0e4",
   "metadata": {},
   "outputs": [],
   "source": [
    "found_links = {\n",
    "    \"test\": base_url,\n",
    "    \"test2\": base_url\n",
    "}"
   ]
  },
  {
   "cell_type": "code",
   "execution_count": 32,
   "id": "f00c7a98",
   "metadata": {},
   "outputs": [],
   "source": [
    "if all(link != base_url for link in found_links.values()):\n",
    "    print(\"YEAH!\")"
   ]
  },
  {
   "cell_type": "code",
   "execution_count": null,
   "id": "7beccac6",
   "metadata": {},
   "outputs": [],
   "source": []
  }
 ],
 "metadata": {
  "kernelspec": {
   "display_name": "OpenStreamTHA",
   "language": "python",
   "name": "python3"
  },
  "language_info": {
   "codemirror_mode": {
    "name": "ipython",
    "version": 3
   },
   "file_extension": ".py",
   "mimetype": "text/x-python",
   "name": "python",
   "nbconvert_exporter": "python",
   "pygments_lexer": "ipython3",
   "version": "3.13.5"
  }
 },
 "nbformat": 4,
 "nbformat_minor": 5
}
