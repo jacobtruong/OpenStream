{
 "cells": [
  {
   "cell_type": "code",
   "execution_count": 10,
   "id": "6fcaf95f",
   "metadata": {},
   "outputs": [],
   "source": [
    "from CompanyResearchAgent import *"
   ]
  },
  {
   "cell_type": "code",
   "execution_count": null,
   "id": "10831388",
   "metadata": {},
   "outputs": [],
   "source": [
    "COMPANY_NAME = \"Texwin\"\n",
    "COMPANY_URL = \"https://texwin.com/\""
   ]
  },
  {
   "cell_type": "code",
   "execution_count": null,
   "id": "e8022590",
   "metadata": {},
   "outputs": [],
   "source": [
    "# Initialise the agent\n",
    "agent = CompanyResearchAgent(COMPANY_NAME, COMPANY_URL)"
   ]
  },
  {
   "cell_type": "code",
   "execution_count": 13,
   "id": "b2872a6d",
   "metadata": {},
   "outputs": [
    {
     "name": "stderr",
     "output_type": "stream",
     "text": [
      "WARNING:root:No specific 'products' page found. Will use homepage for products text.\n"
     ]
    }
   ],
   "source": [
    "# Test step 1:\n",
    "key_urls = agent.find_key_page_urls()"
   ]
  },
  {
   "cell_type": "code",
   "execution_count": 14,
   "id": "821be684",
   "metadata": {},
   "outputs": [
    {
     "data": {
      "text/plain": [
       "{'background': 'https://grcbuxton.au/about-us/?hsLang=en',\n",
       " 'contact': 'https://grcbuxton.au/contact/?hsLang=en',\n",
       " 'products': 'https://grcbuxton.au/'}"
      ]
     },
     "execution_count": 14,
     "metadata": {},
     "output_type": "execute_result"
    }
   ],
   "source": [
    "key_urls"
   ]
  },
  {
   "cell_type": "code",
   "execution_count": 15,
   "id": "04bd9890",
   "metadata": {},
   "outputs": [
    {
     "name": "stderr",
     "output_type": "stream",
     "text": [
      "WARNING:root:No primary content tag found. Falling back to removing noisy tags.\n",
      "WARNING:root:Could not find an address block matching the specific pattern.\n"
     ]
    },
    {
     "name": "stdout",
     "output_type": "stream",
     "text": [
      "Contact page found. Extracting text and address...\n",
      "Contact Text: Contact Contact GRC Buxton Level 1, 262 Lorimer Street Port Melbourne Vic 3207 Telephone +61 3 9644 7000 E-mail admin@grcbuxton.com.au estimating@grcbuxton.com.au Level 1, 262 Lorimer Street Port Melbourne VIC 3207 T +61 3 9644 7000 E admin@grcbuxton.com.au © GRC Buxton ABN 30 674 100 040...\n",
      "Contact Address: None\n"
     ]
    }
   ],
   "source": [
    "# Test step 2 and 3\n",
    "if key_urls.get(\"contact\"):\n",
    "    print(\"Contact page found. Extracting text and address...\")\n",
    "    contact_page_url = key_urls[\"contact\"]\n",
    "    contact_text = agent.extract_text_from_url(contact_page_url)\n",
    "    contact_address = agent.extract_specific_address_block(contact_text)\n",
    "    print(f\"Contact Text: {contact_text[:500]}...\")  # Print first 500 chars for brevity\n",
    "    print(f\"Contact Address: {contact_address}\")"
   ]
  },
  {
   "cell_type": "code",
   "execution_count": 16,
   "id": "76007533",
   "metadata": {},
   "outputs": [
    {
     "name": "stdout",
     "output_type": "stream",
     "text": [
      "Contact Contact GRC Buxton Level 1, 262 Lorimer Street Port Melbourne Vic 3207 Telephone +61 3 9644 7000 E-mail admin@grcbuxton.com.au estimating@grcbuxton.com.au Level 1, 262 Lorimer Street Port Melbourne VIC 3207 T +61 3 9644 7000 E admin@grcbuxton.com.au © GRC Buxton ABN 30 674 100 040\n"
     ]
    }
   ],
   "source": [
    "print(contact_text)"
   ]
  },
  {
   "cell_type": "code",
   "execution_count": 17,
   "id": "8659f3e4",
   "metadata": {},
   "outputs": [],
   "source": [
    "contact_address"
   ]
  },
  {
   "cell_type": "code",
   "execution_count": 18,
   "id": "bf52f880",
   "metadata": {},
   "outputs": [
    {
     "name": "stdout",
     "output_type": "stream",
     "text": [
      "\n",
      "--- Running The Full Research Process ---\n"
     ]
    },
    {
     "name": "stderr",
     "output_type": "stream",
     "text": [
      "WARNING:root:No specific 'products' page found. Will use homepage for products text.\n",
      "WARNING:root:No primary content tag found. Falling back to removing noisy tags.\n",
      "WARNING:root:Could not find an address block matching the specific pattern.\n",
      "WARNING:root:Could not find an address block matching the specific pattern.\n"
     ]
    },
    {
     "name": "stdout",
     "output_type": "stream",
     "text": [
      "\n",
      "--- FINAL SCRAPED DATA ---\n",
      "Address: None\n",
      "Background Text (First 150 chars): We build better One of Australia's most trusted large construction companies in Melbourne , we deliver multi-award-winning construction projects throughout Victoria. With expertise covering all facets of the property industry, from residential developments to industrial and commercial buildings, GRC Buxton is dedicated to becoming Victoria's builder of choice in projects of every size and scope. We recognise that our team is our greatest asset. That's why we work with only the best trades while nurturing fresh thinking and embracing new technology to deliver innovative designs and unsurpassed construction services. By partnering with GRC Buxton, you can be confident in an expert team of design, engineering, and construction professionals who are dedicated to delivering your next project within your budget and schedule, but without compromising on quality....\n",
      "Products Text (First 150 chars): New Foundations We are pleased to announce that as of 24th January 2024, we have entered into a Joint Venture with Chip Eng Seng Construction Pte Ltd (“CES”), which is a multi-disciplinary construction company based in Singapore. The new joint venture company will be named GRC Buxton Pty Ltd , with Andrew Hume, Stephen Baker, and Sam Honey as shareholders, along with CES being the majority shareholder. CES operates predominantly in Singapore, Malaysia, and Indonesia, and has a sister development company based here in Australia. For the most part, it will be business as usual, with the day-to-day management of the business in Victoria remaining unchanged. GRC Buxton will target new projects, while maintaining relationships with Buxton’s established clients, subcontractors, suppliers, and consultants. With CES’s financial strength, in-house technical capabilities, and robust procurement links in Asia, along with Buxton’s five-decade tenure as an industry leader, delivering multi-award-winning builds on over $1 billion worth of projects, our goal is to grow GRC Buxton into a quality-focused and client-oriented construction company....\n"
     ]
    }
   ],
   "source": [
    "print(\"\\n--- Running The Full Research Process ---\")\n",
    "final_data = agent.run_full_research()\n",
    "print(\"\\n--- FINAL SCRAPED DATA ---\")\n",
    "print(f\"Address: {final_data.get('physical_address')}\")\n",
    "print(f\"Background Text (First 150 chars): {final_data.get('background_text', '')[:1500]}...\")\n",
    "print(f\"Products Text (First 150 chars): {final_data.get('products_text', '')[:1500]}...\")\n"
   ]
  },
  {
   "cell_type": "code",
   "execution_count": null,
   "id": "08b6cc17",
   "metadata": {},
   "outputs": [],
   "source": []
  }
 ],
 "metadata": {
  "kernelspec": {
   "display_name": "OpenStreamTHA",
   "language": "python",
   "name": "python3"
  },
  "language_info": {
   "codemirror_mode": {
    "name": "ipython",
    "version": 3
   },
   "file_extension": ".py",
   "mimetype": "text/x-python",
   "name": "python",
   "nbconvert_exporter": "python",
   "pygments_lexer": "ipython3",
   "version": "3.13.5"
  }
 },
 "nbformat": 4,
 "nbformat_minor": 5
}
